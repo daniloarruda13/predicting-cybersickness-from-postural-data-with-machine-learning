{
 "cells": [
  {
   "attachments": {},
   "cell_type": "markdown",
   "metadata": {},
   "source": [
    "# Predicting Cybersickness from postural data with Machine Learning\n",
    "According to the postural instability theory, cybersickness occurs due to changes in the natural postural behavior of the human body.\n",
    "\n",
    "\n",
    "<a id=\"0\"></a> <br>\n",
    " ## Table of Contents  \n",
    "1. [The datasets](#1)     \n",
    "1. [The Datasets](#2) \n",
    "1. [Business Understanding](#3)\n",
    "    1. [Business Questions](#4)\n",
    "1. [Data Understanding](#5)\n",
    "1. [Data Preparation - Initial NaN processing](#6)     \n",
    "1. [Questions 1 and 2](#7)     \n",
    "    1. [Data preparation](#8)\n",
    "        1. [Answering question #1](#9)   \n",
    "        1. [Answering question #2](#10)     \n",
    "1. [Question 3: What is the vibe of each neighborhood based on the neighborhood overview?](#11)\n",
    "    1. [Data Preparation](#12)     \n",
    "    1. [Modeling](#13)\n",
    "    1. [Evaluation - Answering the question](#14)\n",
    "1. [Question 4: Can we predict the price of Boston Airbnbs?](#15)\n",
    "    1. [Data Preparation](#16)     \n",
    "    1. [Modeling and Evaluation](#17)\n",
    "    1. [Answering the question](#18)\n",
    "1. [Conclusion](#19)"
   ]
  },
  {
   "attachments": {},
   "cell_type": "markdown",
   "metadata": {},
   "source": [
    "<a id=\"1\"></a>\n",
    "## The datasets\n",
    "\n",
    "Since we have data coming from two different places and in different formats, we need to analyze them differently. Firstly, I will create a dataframe containing data from each experiment and then combine them. This will require some data wrangling. The goal is to create a single dataframe that contains all the data we need in the same format. \n",
    "Also, in total we have three experiments. We will import their data next."
   ]
  },
  {
   "cell_type": "code",
   "execution_count": 2,
   "metadata": {},
   "outputs": [],
   "source": [
    "#importing libraries\n",
    "import pandas as pd\n",
    "import numpy as np\n",
    "import matplotlib.pyplot as plt\n",
    "import os\n",
    "from collections import defaultdict\n",
    "import re"
   ]
  },
  {
   "cell_type": "code",
   "execution_count": null,
   "metadata": {},
   "outputs": [],
   "source": []
  }
 ],
 "metadata": {
  "kernelspec": {
   "display_name": "Python 3",
   "language": "python",
   "name": "python3"
  },
  "language_info": {
   "codemirror_mode": {
    "name": "ipython",
    "version": 3
   },
   "file_extension": ".py",
   "mimetype": "text/x-python",
   "name": "python",
   "nbconvert_exporter": "python",
   "pygments_lexer": "ipython3",
   "version": "3.11.2"
  },
  "orig_nbformat": 4
 },
 "nbformat": 4,
 "nbformat_minor": 2
}
